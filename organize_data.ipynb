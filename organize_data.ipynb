{
 "cells": [
  {
   "cell_type": "code",
   "id": "initial_id",
   "metadata": {
    "collapsed": true,
    "ExecuteTime": {
     "end_time": "2024-08-28T14:10:13.104115Z",
     "start_time": "2024-08-28T14:10:12.761068Z"
    }
   },
   "source": [
    "import pandas as pd\n",
    "from pathlib import Path"
   ],
   "outputs": [],
   "execution_count": 1
  },
  {
   "metadata": {
    "ExecuteTime": {
     "end_time": "2024-08-28T14:10:23.342436Z",
     "start_time": "2024-08-28T14:10:23.340476Z"
    }
   },
   "cell_type": "code",
   "source": "tabular_root = Path('Organized_Data')",
   "id": "5f5694863c821cd4",
   "outputs": [],
   "execution_count": 2
  },
  {
   "metadata": {
    "ExecuteTime": {
     "end_time": "2024-08-28T14:18:35.649881Z",
     "start_time": "2024-08-28T14:18:35.646435Z"
    }
   },
   "cell_type": "code",
   "source": [
    "replacements = [\n",
    "    ('0-1', '000-100'),\n",
    "    ('1-2', '100-200'),\n",
    "    ('2-3', '200-300'),\n",
    "    ('3-4', '300-400')\n",
    "]"
   ],
   "id": "74bfcc5373fadaac",
   "outputs": [],
   "execution_count": 23
  },
  {
   "metadata": {
    "ExecuteTime": {
     "end_time": "2024-08-28T14:24:54.550586Z",
     "start_time": "2024-08-28T14:24:51.698198Z"
    }
   },
   "cell_type": "code",
   "source": [
    "y = []\n",
    "X = []\n",
    "\n",
    "for folder in tabular_root.iterdir():\n",
    "    if not folder.is_dir() or folder.parts[-1] != 'SEN06':\n",
    "        continue\n",
    "    for sub_folder in folder.iterdir():\n",
    "        if not sub_folder.is_dir():\n",
    "            continue\n",
    "        for file in sub_folder.iterdir():\n",
    "            if file.suffix == '.xlsx':\n",
    "                dfs = pd.read_excel(file, sheet_name=None)\n",
    "                for k, df in dfs.items():\n",
    "                    for r in replacements:\n",
    "                        if r[0] in k:\n",
    "                            k = k.replace(*r)\n",
    "                            break\n",
    "                    if Path(f'Images/{folder.parts[-1]}/{k}').is_dir():\n",
    "                        df.dropna(subset=['Target'], inplace=True)\n",
    "                        df['Target'] = df['Target'].str.replace('_cropped', '')\n",
    "                        for i, row in df.iterrows():\n",
    "                            image_path = f'Images/{folder.parts[-1]}/{k}/{row[\"Target\"]}'\n",
    "                            if Path(image_path).is_file():\n",
    "                                X.append(image_path)\n",
    "                                y.append(row.iloc[8:22].values)\n",
    "                    "
   ],
   "id": "f14b00ac0977ab95",
   "outputs": [],
   "execution_count": 39
  },
  {
   "metadata": {
    "ExecuteTime": {
     "end_time": "2024-08-28T14:25:08.351894Z",
     "start_time": "2024-08-28T14:25:08.349294Z"
    }
   },
   "cell_type": "code",
   "source": "len(X)",
   "id": "6e36dfdf99a51d27",
   "outputs": [
    {
     "data": {
      "text/plain": [
       "7200"
      ]
     },
     "execution_count": 41,
     "metadata": {},
     "output_type": "execute_result"
    }
   ],
   "execution_count": 41
  },
  {
   "metadata": {
    "ExecuteTime": {
     "end_time": "2024-08-28T14:27:29.563354Z",
     "start_time": "2024-08-28T14:27:29.547153Z"
    }
   },
   "cell_type": "code",
   "source": [
    "import numpy as np\n",
    "\n",
    "# Save the data\n",
    "with open('image_paths.txt', 'w') as f:\n",
    "    f.write('\\n'.join(X))\n",
    "\n",
    "y = np.array(y)\n",
    "np.save('targets.npy', y)"
   ],
   "id": "f2c66106badc1d61",
   "outputs": [],
   "execution_count": 46
  },
  {
   "metadata": {
    "ExecuteTime": {
     "end_time": "2024-08-28T14:27:51.219480Z",
     "start_time": "2024-08-28T14:27:51.215142Z"
    }
   },
   "cell_type": "code",
   "source": "y",
   "id": "d04ffb54fa445dd1",
   "outputs": [
    {
     "data": {
      "text/plain": [
       "array([[4.04, 0.1888, 0.0896, ..., -2.099999999999994, 1.800000000000011,\n",
       "        1.049999999999983],\n",
       "       [3.79, 0.1392, 0.1392, ..., -2.550000000000011, 3.050000000000011,\n",
       "        0.25],\n",
       "       [3.73, 0.1888, 0.1392, ..., 0.3000000000000114, 3.349999999999994,\n",
       "        5.299999999999997],\n",
       "       ...,\n",
       "       [3.03, 0.1392, 0.04, ..., 3.75, 6.849999999999994,\n",
       "        1.099999999999994],\n",
       "       [3.19, 0.1392, 0.0896, ..., 2.0, 6.049999999999997,\n",
       "        3.100000000000009],\n",
       "       [3.39, 0.1888, 0.0896, ..., 4.599999999999994, 5.049999999999997,\n",
       "        5.099999999999994]], dtype=object)"
      ]
     },
     "execution_count": 51,
     "metadata": {},
     "output_type": "execute_result"
    }
   ],
   "execution_count": 51
  },
  {
   "metadata": {},
   "cell_type": "code",
   "outputs": [],
   "execution_count": null,
   "source": "",
   "id": "b25ec43987bd6ef"
  }
 ],
 "metadata": {
  "kernelspec": {
   "display_name": "Python 3",
   "language": "python",
   "name": "python3"
  },
  "language_info": {
   "codemirror_mode": {
    "name": "ipython",
    "version": 2
   },
   "file_extension": ".py",
   "mimetype": "text/x-python",
   "name": "python",
   "nbconvert_exporter": "python",
   "pygments_lexer": "ipython2",
   "version": "2.7.6"
  }
 },
 "nbformat": 4,
 "nbformat_minor": 5
}
